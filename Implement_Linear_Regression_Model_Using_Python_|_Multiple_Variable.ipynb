{
  "nbformat": 4,
  "nbformat_minor": 0,
  "metadata": {
    "colab": {
      "provenance": [],
      "authorship_tag": "ABX9TyNzsFoNFAwCgPGtfrRX5+ZO",
      "include_colab_link": true
    },
    "kernelspec": {
      "name": "python3",
      "display_name": "Python 3"
    },
    "language_info": {
      "name": "python"
    }
  },
  "cells": [
    {
      "cell_type": "markdown",
      "metadata": {
        "id": "view-in-github",
        "colab_type": "text"
      },
      "source": [
        "<a href=\"https://colab.research.google.com/github/OTN-Rajapaksha/Machine-Learning/blob/main/Implement_Linear_Regression_Model_Using_Python_%7C_Multiple_Variable.ipynb\" target=\"_parent\"><img src=\"https://colab.research.google.com/assets/colab-badge.svg\" alt=\"Open In Colab\"/></a>"
      ]
    },
    {
      "cell_type": "markdown",
      "source": [
        "## **📌 Multivariable Linear Regression:**\n",
        "\n",
        "An extension of linear regression that uses two or more input features to predict a continuous output. It fits a linear equation y = b0 + b1x1 + b2x2 + ... + bnxn to model the relationship between multiple variables and the target."
      ],
      "metadata": {
        "id": "B_rRsyfzrQj_"
      }
    },
    {
      "cell_type": "code",
      "source": [],
      "metadata": {
        "id": "eFZSemxFrS27"
      },
      "execution_count": null,
      "outputs": []
    }
  ]
}