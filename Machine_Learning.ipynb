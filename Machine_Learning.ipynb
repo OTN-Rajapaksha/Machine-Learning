{
  "nbformat": 4,
  "nbformat_minor": 0,
  "metadata": {
    "colab": {
      "provenance": [],
      "authorship_tag": "ABX9TyNmSCYMI+mAE2dqG8e30OUX",
      "include_colab_link": true
    },
    "kernelspec": {
      "name": "python3",
      "display_name": "Python 3"
    },
    "language_info": {
      "name": "python"
    }
  },
  "cells": [
    {
      "cell_type": "markdown",
      "metadata": {
        "id": "view-in-github",
        "colab_type": "text"
      },
      "source": [
        "<a href=\"https://colab.research.google.com/github/OTN-Rajapaksha/Machine-Learning/blob/main/Machine_Learning.ipynb\" target=\"_parent\"><img src=\"https://colab.research.google.com/assets/colab-badge.svg\" alt=\"Open In Colab\"/></a>"
      ]
    },
    {
      "cell_type": "markdown",
      "source": [
        "# 🤖 **Machine Learning:**\n",
        "\n",
        "Machine Learning is a branch of Artificial Intelligence (AI) that enables computers to learn from data and improve performance without being explicitly programmed. It uses algorithms to identify patterns and make predictions or decisions based on data.\n"
      ],
      "metadata": {
        "id": "_tr3--xt2lOQ"
      }
    },
    {
      "cell_type": "markdown",
      "source": [
        "## **📘 Supervised Learning:**\n",
        "\n",
        "A type of Machine Learning where the model is trained on labeled data (input-output pairs) to make predictions.\n",
        "\n",
        "## **📙 Unsupervised Learning:**\n",
        "\n",
        "Involves training on unlabeled data to discover hidden patterns or groupings (like clustering)."
      ],
      "metadata": {
        "id": "TBLoXYRhVPuZ"
      }
    },
    {
      "cell_type": "code",
      "source": [],
      "metadata": {
        "id": "4GpHDPCrVVnI"
      },
      "execution_count": null,
      "outputs": []
    }
  ]
}