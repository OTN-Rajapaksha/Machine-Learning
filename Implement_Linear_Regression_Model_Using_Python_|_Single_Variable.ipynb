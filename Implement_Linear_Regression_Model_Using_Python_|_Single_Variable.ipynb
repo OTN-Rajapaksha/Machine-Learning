{
  "nbformat": 4,
  "nbformat_minor": 0,
  "metadata": {
    "colab": {
      "provenance": [],
      "authorship_tag": "ABX9TyMG6qEmpuhdvzBf6H1OUD3k",
      "include_colab_link": true
    },
    "kernelspec": {
      "name": "python3",
      "display_name": "Python 3"
    },
    "language_info": {
      "name": "python"
    }
  },
  "cells": [
    {
      "cell_type": "markdown",
      "metadata": {
        "id": "view-in-github",
        "colab_type": "text"
      },
      "source": [
        "<a href=\"https://colab.research.google.com/github/OTN-Rajapaksha/Machine-Learning/blob/main/Implement_Linear_Regression_Model_Using_Python_%7C_Single_Variable.ipynb\" target=\"_parent\"><img src=\"https://colab.research.google.com/assets/colab-badge.svg\" alt=\"Open In Colab\"/></a>"
      ]
    },
    {
      "cell_type": "markdown",
      "source": [
        "## **📌 Single Variable Linear Regression:**\n",
        "A supervised learning algorithm that models the relationship between one input variable and one output variable. This Python implementation fits a straight line to the data and predicts future values using the equation y = mx + c."
      ],
      "metadata": {
        "id": "gc1u0P-6gD0Q"
      }
    },
    {
      "cell_type": "code",
      "source": [],
      "metadata": {
        "id": "WuVc-4MxgQEm"
      },
      "execution_count": null,
      "outputs": []
    }
  ]
}